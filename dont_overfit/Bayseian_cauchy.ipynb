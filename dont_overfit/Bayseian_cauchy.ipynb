{
 "cells": [
  {
   "cell_type": "code",
   "execution_count": 4,
   "metadata": {},
   "outputs": [],
   "source": [
    "import re\n",
    "import numpy as np # linear algebra\n",
    "import pandas as pd # data processing, CSV file I/O (e.g. pd.read_csv)\n",
    "import pymc3 as pm\n",
    "import random\n",
    "import matplotlib\n",
    "import seaborn as sns\n",
    "import theano.tensor as tt\n",
    "from scipy.special import expit\n",
    "from scipy.special import logit\n",
    "from scipy.stats import cauchy\n",
    "import warnings\n",
    "warnings.filterwarnings(\"ignore\") # plotnine is causing all kinds of matplotlib warnings"
   ]
  },
  {
   "cell_type": "code",
   "execution_count": null,
   "metadata": {},
   "outputs": [],
   "source": []
  }
 ],
 "metadata": {
  "kernelspec": {
   "display_name": "Python 3",
   "language": "python",
   "name": "python3"
  },
  "language_info": {
   "codemirror_mode": {
    "name": "ipython",
    "version": 3
   },
   "file_extension": ".py",
   "mimetype": "text/x-python",
   "name": "python",
   "nbconvert_exporter": "python",
   "pygments_lexer": "ipython3",
   "version": "3.7.6"
  }
 },
 "nbformat": 4,
 "nbformat_minor": 4
}
