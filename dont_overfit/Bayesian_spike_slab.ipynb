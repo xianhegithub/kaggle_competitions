{
 "cells": [
  {
   "cell_type": "code",
   "execution_count": 21,
   "metadata": {},
   "outputs": [],
   "source": [
    "import pymc3 as pm\n",
    "import numpy as np\n",
    "import pandas as pd\n",
    "import theano.tensor as tt\n",
    "from scipy.special import expit\n",
    "invlogit = lambda x: 1/(1 + tt.exp(-x))"
   ]
  },
  {
   "cell_type": "code",
   "execution_count": 23,
   "metadata": {},
   "outputs": [
    {
     "name": "stdout",
     "output_type": "stream",
     "text": [
      "   id  target      0      1      2      3      4      5      6      7  ...  \\\n",
      "0   0     1.0 -1.067 -1.114 -0.616  0.376  1.090  0.467 -0.422  0.460  ...   \n",
      "1   1     0.0 -0.831  0.271  1.716  1.096  1.731 -0.197  1.904 -0.265  ...   \n",
      "2   2     0.0  0.099  1.390 -0.732 -1.065  0.005 -0.081 -1.450  0.317  ...   \n",
      "3   3     1.0 -0.989 -0.916 -1.343  0.145  0.543  0.636  1.127  0.189  ...   \n",
      "4   4     0.0  0.811 -1.509  0.522 -0.360 -0.220 -0.959  0.334 -0.566  ...   \n",
      "\n",
      "     290    291    292    293    294    295    296    297    298    299  \n",
      "0  0.220 -0.339  0.254 -0.179  0.352  0.125  0.347  0.436  0.958 -0.824  \n",
      "1 -0.765 -0.735 -1.158  2.554  0.856 -1.506  0.462 -0.029 -1.932 -0.343  \n",
      "2 -1.311  0.799 -1.001  1.544  0.575 -0.309 -0.339 -0.148 -0.646  0.725  \n",
      "3 -1.370  1.093  0.596 -0.589 -0.649 -0.163 -0.958 -1.081  0.805  3.401  \n",
      "4 -0.178  0.718 -1.017  1.249 -0.596 -0.445  1.751  1.442 -0.393 -0.643  \n",
      "\n",
      "[5 rows x 302 columns]\n"
     ]
    }
   ],
   "source": [
    "df = pd.read_csv('train.csv')\n",
    "print(df.head())\n",
    "y = np.asarray(df.target)\n",
    "X = np.array(df.iloc[:, 2:302])\n",
    "df2 = pd.read_csv('test.csv')\n",
    "df2.head()\n",
    "X2 = np.array(df2.iloc[:, 1:301])"
   ]
  },
  {
   "cell_type": "code",
   "execution_count": 13,
   "metadata": {},
   "outputs": [
    {
     "name": "stderr",
     "output_type": "stream",
     "text": [
      "Sequential sampling (2 chains in 1 job)\n",
      "CompoundStep\n",
      ">BinaryGibbsMetropolis: [xi]\n",
      ">NUTS: [beta, alpha]\n",
      "100%|██████████| 2500/2500 [02:12<00:00, 18.93it/s]\n",
      "100%|██████████| 2500/2500 [02:23<00:00, 17.38it/s]\n"
     ]
    }
   ],
   "source": [
    "def get_model(y, X):\n",
    "    model = pm.Model()\n",
    "    with model:\n",
    "        xi = pm.Bernoulli('xi', .05, shape=X.shape[1]) #inclusion probability for each variable\n",
    "        alpha = pm.Normal('alpha', mu = 0, sd = 5) # Intercept\n",
    "        beta = pm.Normal('beta', mu = 0, sd = .75 , shape=X.shape[1]) #Prior for the non-zero coefficients\n",
    "        p = pm.math.dot(X, xi * beta) #Deterministic function to map the stochastics to the output\n",
    "        y_obs = pm.Bernoulli('y_obs', invlogit(p + alpha),  observed=y)  #Data likelihood\n",
    "    return model\n",
    "model1 = get_model(y, X)\n",
    "with model1:\n",
    "    trace = pm.sample(2000, random_seed = 4816, cores = 1, progressbar = True, chains = 2)"
   ]
  },
  {
   "cell_type": "code",
   "execution_count": 14,
   "metadata": {},
   "outputs": [],
   "source": [
    "results = pd.DataFrame({'var': np.arange(300), \n",
    "                        'inclusion_probability':np.apply_along_axis(np.mean, 0, trace['xi']),\n",
    "                       'beta':np.apply_along_axis(np.mean, 0, trace['beta']),\n",
    "                       'beta_given_inclusion': np.apply_along_axis(np.sum, 0, trace['xi']*trace['beta'])\n",
    "                            /np.apply_along_axis(np.sum, 0, trace['xi'])\n",
    "                       })"
   ]
  },
  {
   "cell_type": "code",
   "execution_count": 15,
   "metadata": {},
   "outputs": [
    {
     "data": {
      "text/html": [
       "<div>\n",
       "<style scoped>\n",
       "    .dataframe tbody tr th:only-of-type {\n",
       "        vertical-align: middle;\n",
       "    }\n",
       "\n",
       "    .dataframe tbody tr th {\n",
       "        vertical-align: top;\n",
       "    }\n",
       "\n",
       "    .dataframe thead th {\n",
       "        text-align: right;\n",
       "    }\n",
       "</style>\n",
       "<table border=\"1\" class=\"dataframe\">\n",
       "  <thead>\n",
       "    <tr style=\"text-align: right;\">\n",
       "      <th></th>\n",
       "      <th>var</th>\n",
       "      <th>inclusion_probability</th>\n",
       "      <th>beta</th>\n",
       "      <th>beta_given_inclusion</th>\n",
       "    </tr>\n",
       "  </thead>\n",
       "  <tbody>\n",
       "    <tr>\n",
       "      <th>127</th>\n",
       "      <td>127</td>\n",
       "      <td>1.00000</td>\n",
       "      <td>1.080765</td>\n",
       "      <td>1.080765</td>\n",
       "    </tr>\n",
       "    <tr>\n",
       "      <th>176</th>\n",
       "      <td>176</td>\n",
       "      <td>0.87925</td>\n",
       "      <td>-0.646303</td>\n",
       "      <td>-0.726684</td>\n",
       "    </tr>\n",
       "    <tr>\n",
       "      <th>18</th>\n",
       "      <td>18</td>\n",
       "      <td>0.87875</td>\n",
       "      <td>0.661963</td>\n",
       "      <td>0.753232</td>\n",
       "    </tr>\n",
       "    <tr>\n",
       "      <th>241</th>\n",
       "      <td>241</td>\n",
       "      <td>0.78250</td>\n",
       "      <td>0.577308</td>\n",
       "      <td>0.746181</td>\n",
       "    </tr>\n",
       "    <tr>\n",
       "      <th>16</th>\n",
       "      <td>16</td>\n",
       "      <td>0.67300</td>\n",
       "      <td>-0.446223</td>\n",
       "      <td>-0.652325</td>\n",
       "    </tr>\n",
       "    <tr>\n",
       "      <th>74</th>\n",
       "      <td>74</td>\n",
       "      <td>0.59150</td>\n",
       "      <td>-0.378697</td>\n",
       "      <td>-0.633306</td>\n",
       "    </tr>\n",
       "    <tr>\n",
       "      <th>135</th>\n",
       "      <td>135</td>\n",
       "      <td>0.48275</td>\n",
       "      <td>-0.302919</td>\n",
       "      <td>-0.611513</td>\n",
       "    </tr>\n",
       "    <tr>\n",
       "      <th>66</th>\n",
       "      <td>66</td>\n",
       "      <td>0.44450</td>\n",
       "      <td>0.286320</td>\n",
       "      <td>0.644222</td>\n",
       "    </tr>\n",
       "    <tr>\n",
       "      <th>199</th>\n",
       "      <td>199</td>\n",
       "      <td>0.38375</td>\n",
       "      <td>-0.217808</td>\n",
       "      <td>-0.577155</td>\n",
       "    </tr>\n",
       "    <tr>\n",
       "      <th>200</th>\n",
       "      <td>200</td>\n",
       "      <td>0.31225</td>\n",
       "      <td>-0.159157</td>\n",
       "      <td>-0.531241</td>\n",
       "    </tr>\n",
       "    <tr>\n",
       "      <th>113</th>\n",
       "      <td>113</td>\n",
       "      <td>0.30550</td>\n",
       "      <td>-0.178667</td>\n",
       "      <td>-0.541900</td>\n",
       "    </tr>\n",
       "    <tr>\n",
       "      <th>133</th>\n",
       "      <td>133</td>\n",
       "      <td>0.28475</td>\n",
       "      <td>-0.165158</td>\n",
       "      <td>-0.561915</td>\n",
       "    </tr>\n",
       "    <tr>\n",
       "      <th>177</th>\n",
       "      <td>177</td>\n",
       "      <td>0.27175</td>\n",
       "      <td>-0.145624</td>\n",
       "      <td>-0.514107</td>\n",
       "    </tr>\n",
       "    <tr>\n",
       "      <th>59</th>\n",
       "      <td>59</td>\n",
       "      <td>0.25900</td>\n",
       "      <td>-0.137542</td>\n",
       "      <td>-0.538251</td>\n",
       "    </tr>\n",
       "    <tr>\n",
       "      <th>136</th>\n",
       "      <td>136</td>\n",
       "      <td>0.25175</td>\n",
       "      <td>-0.143786</td>\n",
       "      <td>-0.540617</td>\n",
       "    </tr>\n",
       "    <tr>\n",
       "      <th>93</th>\n",
       "      <td>93</td>\n",
       "      <td>0.16975</td>\n",
       "      <td>0.088255</td>\n",
       "      <td>0.525433</td>\n",
       "    </tr>\n",
       "    <tr>\n",
       "      <th>107</th>\n",
       "      <td>107</td>\n",
       "      <td>0.16700</td>\n",
       "      <td>0.071301</td>\n",
       "      <td>0.471993</td>\n",
       "    </tr>\n",
       "    <tr>\n",
       "      <th>178</th>\n",
       "      <td>178</td>\n",
       "      <td>0.16475</td>\n",
       "      <td>0.079203</td>\n",
       "      <td>0.489621</td>\n",
       "    </tr>\n",
       "    <tr>\n",
       "      <th>69</th>\n",
       "      <td>69</td>\n",
       "      <td>0.15750</td>\n",
       "      <td>-0.071930</td>\n",
       "      <td>-0.465964</td>\n",
       "    </tr>\n",
       "    <tr>\n",
       "      <th>126</th>\n",
       "      <td>126</td>\n",
       "      <td>0.14825</td>\n",
       "      <td>-0.084658</td>\n",
       "      <td>-0.501089</td>\n",
       "    </tr>\n",
       "  </tbody>\n",
       "</table>\n",
       "</div>"
      ],
      "text/plain": [
       "     var  inclusion_probability      beta  beta_given_inclusion\n",
       "127  127                1.00000  1.080765              1.080765\n",
       "176  176                0.87925 -0.646303             -0.726684\n",
       "18    18                0.87875  0.661963              0.753232\n",
       "241  241                0.78250  0.577308              0.746181\n",
       "16    16                0.67300 -0.446223             -0.652325\n",
       "74    74                0.59150 -0.378697             -0.633306\n",
       "135  135                0.48275 -0.302919             -0.611513\n",
       "66    66                0.44450  0.286320              0.644222\n",
       "199  199                0.38375 -0.217808             -0.577155\n",
       "200  200                0.31225 -0.159157             -0.531241\n",
       "113  113                0.30550 -0.178667             -0.541900\n",
       "133  133                0.28475 -0.165158             -0.561915\n",
       "177  177                0.27175 -0.145624             -0.514107\n",
       "59    59                0.25900 -0.137542             -0.538251\n",
       "136  136                0.25175 -0.143786             -0.540617\n",
       "93    93                0.16975  0.088255              0.525433\n",
       "107  107                0.16700  0.071301              0.471993\n",
       "178  178                0.16475  0.079203              0.489621\n",
       "69    69                0.15750 -0.071930             -0.465964\n",
       "126  126                0.14825 -0.084658             -0.501089"
      ]
     },
     "execution_count": 15,
     "metadata": {},
     "output_type": "execute_result"
    }
   ],
   "source": [
    "results.sort_values('inclusion_probability', ascending = False).head(20)"
   ]
  },
  {
   "cell_type": "code",
   "execution_count": 16,
   "metadata": {},
   "outputs": [],
   "source": [
    "estimate = trace['beta'] * trace['xi'] \n",
    "y_hat = np.apply_along_axis(np.mean, 1, expit(trace['alpha'] + np.dot(X2, np.transpose(estimate) )) )"
   ]
  },
  {
   "cell_type": "code",
   "execution_count": 17,
   "metadata": {},
   "outputs": [],
   "source": [
    "submission  = pd.DataFrame({'id':df2.id, 'target':y_hat})\n",
    "submission.to_csv('submission.csv', index = False)"
   ]
  },
  {
   "cell_type": "code",
   "execution_count": 18,
   "metadata": {},
   "outputs": [
    {
     "data": {
      "text/plain": [
       "(0.29129541095602957, 0.052950833333333336)"
      ]
     },
     "execution_count": 18,
     "metadata": {},
     "output_type": "execute_result"
    }
   ],
   "source": [
    "np.mean(y_hat), np.sum(results.inclusion_probability/300)"
   ]
  },
  {
   "cell_type": "code",
   "execution_count": 17,
   "metadata": {},
   "outputs": [],
   "source": []
  },
  {
   "cell_type": "code",
   "execution_count": null,
   "metadata": {},
   "outputs": [],
   "source": []
  }
 ],
 "metadata": {
  "kernelspec": {
   "display_name": "Python 3",
   "language": "python",
   "name": "python3"
  },
  "language_info": {
   "codemirror_mode": {
    "name": "ipython",
    "version": 3
   },
   "file_extension": ".py",
   "mimetype": "text/x-python",
   "name": "python",
   "nbconvert_exporter": "python",
   "pygments_lexer": "ipython3",
   "version": "3.7.4"
  }
 },
 "nbformat": 4,
 "nbformat_minor": 4
}
